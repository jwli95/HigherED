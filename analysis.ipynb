{
 "cells": [
  {
   "cell_type": "code",
   "execution_count": 117,
   "metadata": {},
   "outputs": [
    {
     "name": "stdout",
     "output_type": "stream",
     "text": [
      "1070\n"
     ]
    }
   ],
   "source": [
    "import json\n",
    "\n",
    "def filter_data(filename):\n",
    "    fin = open(filename)\n",
    "    data = json.load(fin)\n",
    "\n",
    "    fd = []\n",
    "\n",
    "    # Filter\n",
    "    for ele in data:\n",
    "        position = ele['position'].lower()\n",
    "        link = ele['link'].lower()\n",
    "        \n",
    "        f_prof = position.find('prof') != -1\n",
    "        f_tenure = position.find('tenure') != -1\n",
    "\n",
    "        f_postdoc = (position.find('post') != -1 and position.find('doc') != -1)\n",
    "        f_instructor = (position.find('instructor') != -1 or position.find('lecturer') != -1)\n",
    "        f_adjunct = position.find('adjunct') != -1\n",
    "        f_parttime = (position.find('part-time') != -1 or position.find('part time') != -1)\n",
    "        f_chair = position.find('chair') != -1\n",
    "\n",
    "        # Filter Postdoc/Lecture/Adjunct/Part-time/Chair\n",
    "        if ((not f_prof) and (not f_tenure) and f_postdoc) or ((not f_prof) and (not f_tenure) and f_instructor) or f_adjunct or f_parttime or ((not f_prof) and (not f_tenure) and f_chair):\n",
    "            continue\n",
    "\n",
    "        # Extract JobCode\n",
    "        ind = link.find('jobcode')\n",
    "        jobcode = link[ind+8:ind+17]\n",
    "        ele['jobcode'] = jobcode\n",
    "\n",
    "        fd.append(ele)\n",
    "    return fd\n",
    "\n",
    "\n",
    "data = []\n",
    "for filename in ['EE.json', 'CE.json', 'CS.json']:\n",
    "    data += filter_data(filename)\n",
    "\n",
    "print(len(data))\n",
    "\n",
    "\n",
    "# txt1 = \"My name is {fname}, I'm {age}\".format(fname = \"John\", age = 36)\n",
    "\n",
    "with open('README.md', 'w') as fout:\n",
    "    fout.write('| jobcode | university | location | position | post_date | link |\\n')\n",
    "    fout.write('| ------- | ---------- | -------- | -------- | --------- | ---- |\\n')\n",
    "    ids = []\n",
    "    count = 1\n",
    "    for ele in data:\n",
    "        # limited job posted this year\n",
    "        if ele['jobcode'] not in ids and ele['post_date'][-2:] == '22':\n",
    "            ids.append(ele['jobcode'])\n",
    "            record = '|{}|{}|{}|{}|{}|{}|[link]({})|\\n'.format(count, ele['jobcode'], ele['university'], ele['location'], ele['position'], ele['post_date'], ele['link'])\n",
    "            fout.write(record)\n",
    "            count += 1\n",
    "\n",
    "            # fout.write('|'+ ele['jobcode'] + '|' + ele['university'] + '|' + ele['location'] + '|' \n",
    "            #             + ele['position'] + '|' + ele['post_date'] + '|[link](' + ele['link'] + ')|\\n')\n"
   ]
  }
 ],
 "metadata": {
  "kernelspec": {
   "display_name": "Python 3.10.4 ('highered')",
   "language": "python",
   "name": "python3"
  },
  "language_info": {
   "codemirror_mode": {
    "name": "ipython",
    "version": 3
   },
   "file_extension": ".py",
   "mimetype": "text/x-python",
   "name": "python",
   "nbconvert_exporter": "python",
   "pygments_lexer": "ipython3",
   "version": "3.10.4"
  },
  "orig_nbformat": 4,
  "vscode": {
   "interpreter": {
    "hash": "fa98bda4f36822f31e864cbfb2633a3f6a363b7b9fa4fb932c5536e10ea9dd5b"
   }
  }
 },
 "nbformat": 4,
 "nbformat_minor": 2
}
